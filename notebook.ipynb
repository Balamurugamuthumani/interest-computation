{
 "cells": [
  {
   "cell_type": "code",
   "execution_count": 421,
   "metadata": {},
   "outputs": [],
   "source": [
    "import pandas as pd\n",
    "import numpy as np\n",
    "from pandas.tseries.offsets import MonthEnd\n"
   ]
  },
  {
   "cell_type": "code",
   "execution_count": 422,
   "metadata": {},
   "outputs": [],
   "source": [
    "#FSAPLALONS000005003574,6472722,511,27-05-2022\n",
    "from IPython.core.interactiveshell import InteractiveShell\n",
    "\n",
    "InteractiveShell.ast_node_interactivity = \"all\""
   ]
  },
  {
   "cell_type": "code",
   "execution_count": 457,
   "metadata": {},
   "outputs": [],
   "source": [
    "df = pd.read_csv(\"data.csv\")\n",
    "loan_account_list = df['Loan-Account'].to_list()\n",
    "principal_list = df['Principal-M'].to_list()\n",
    "roi_list = df['Rate-of-interest'].to_list()\n",
    "emi_list = df['EMI'].to_list()\n",
    "edd_list = df['Earlier-due-date'].to_list()\n",
    "# df.head()"
   ]
  },
  {
   "cell_type": "code",
   "execution_count": 458,
   "metadata": {},
   "outputs": [],
   "source": [
    "part_payment = pd.read_csv(\"pre-payment.csv\")\n",
    "part_payment['REPAY_EFFECTIVE_DATE'] = pd.to_datetime(part_payment['REPAY_EFFECTIVE_DATE'],format=\"%d-%m-%Y\")\n",
    "# part_payment.head()"
   ]
  },
  {
   "cell_type": "code",
   "execution_count": 459,
   "metadata": {},
   "outputs": [],
   "source": [
    "part_payment['date'] = pd.DatetimeIndex(part_payment['REPAY_EFFECTIVE_DATE']).day\n",
    "part_payment['month'] = pd.DatetimeIndex(part_payment['REPAY_EFFECTIVE_DATE']).month\n",
    "part_payment['year'] = pd.DatetimeIndex(part_payment['REPAY_EFFECTIVE_DATE']).year\n",
    "# part_payment.head(8)"
   ]
  },
  {
   "cell_type": "code",
   "execution_count": 436,
   "metadata": {},
   "outputs": [
    {
     "name": "stdout",
     "output_type": "stream",
     "text": [
      "[[9, 1, 416], [9, 11, 417], [6, 1, 418]]\n"
     ]
    }
   ],
   "source": [
    "part_payment_list=part_payment.loc[part_payment['Loan Account']==\"FSAPLALONS000005003574\",['month','date','PART_PREPAY_AMOUNT']].values.tolist()\n",
    "print(part_payment_list)"
   ]
  },
  {
   "cell_type": "code",
   "execution_count": 465,
   "metadata": {},
   "outputs": [
    {
     "name": "stdout",
     "output_type": "stream",
     "text": [
      "{11: [[7, 8], [1000, 2000]]}\n",
      "{}\n",
      "{9: [[1, 11], [416, 417]], 6: [[1], [418]]}\n"
     ]
    }
   ],
   "source": [
    "for index, item in df['Loan-Account'].items():\n",
    "\n",
    "\n",
    "    part_payment_list=part_payment.loc[part_payment['Loan Account']==item,['month','date','PART_PREPAY_AMOUNT']].values.tolist()\n",
    "    print(get_part_payment_dict(part_payment_list))\n",
    "    part_payment_dict = get_part_payment_dict(part_payment_list)\n",
    "    #APRIL MONTH INTEREST\n",
    "    principal = first_closing_prinicipal(principal_list[index], roi_list[index], emi_list[index])\n",
    "    #MAY TO SEPTEMBER INTEREST\n",
    "    for i in range(5, 10):\n",
    "        interest_value, closing_principal_2 = next_values(principal, roi_list[index], emi_list[index], edd_list[index], i, i+1, part_payment_dict)\n",
    "        principal = closing_principal_2\n",
    "    "
   ]
  },
  {
   "cell_type": "code",
   "execution_count": 463,
   "metadata": {},
   "outputs": [],
   "source": [
    "def get_part_payment_dict(part_payment_list):\n",
    "    part_payment_dict = {}\n",
    "\n",
    "    for line in part_payment_list:\n",
    "        if line[0] in part_payment_dict:\n",
    "            # append the new number to the existing array at this slot\n",
    "            part_payment_dict[line[0]][0].append(line[1])\n",
    "            part_payment_dict[line[0]][1].append(line[2])\n",
    "        else:\n",
    "            # create a new array in this slot\n",
    "            part_payment_dict[line[0]] = [[line[1]],[line[2]]]\n",
    "    return part_payment_dict"
   ]
  },
  {
   "cell_type": "code",
   "execution_count": 437,
   "metadata": {},
   "outputs": [
    {
     "name": "stdout",
     "output_type": "stream",
     "text": [
      "{9: [11, [417]], 6: [1, [418]]}\n"
     ]
    }
   ],
   "source": [
    "part_payment_dict = {item[0]: [item[1],item[2:]] for item in part_payment_list}\n",
    "print(part_payment_dict)"
   ]
  },
  {
   "cell_type": "code",
   "execution_count": 181,
   "metadata": {},
   "outputs": [
    {
     "data": {
      "text/plain": [
       "[1, [416]]"
      ]
     },
     "execution_count": 181,
     "metadata": {},
     "output_type": "execute_result"
    }
   ],
   "source": [
    "part_payment_dict.get(9)"
   ]
  },
  {
   "cell_type": "code",
   "execution_count": 150,
   "metadata": {},
   "outputs": [
    {
     "data": {
      "text/plain": [
       "416"
      ]
     },
     "execution_count": 150,
     "metadata": {},
     "output_type": "execute_result"
    }
   ],
   "source": [
    "sm = 9 \n",
    "if sm == part_payment_dict.get('9-30'):\n",
    "    print(\"summa\")"
   ]
  },
  {
   "cell_type": "code",
   "execution_count": 452,
   "metadata": {},
   "outputs": [],
   "source": [
    "def days360(start_date, end_date, method_eu=False):\n",
    "    start_day = start_date.day\n",
    "    start_month = start_date.month\n",
    "    start_year = start_date.year\n",
    "    end_day = end_date.day\n",
    "    end_month = end_date.month\n",
    "    end_year = end_date.year\n",
    "\n",
    "    if (\n",
    "        start_day == 31 or\n",
    "        (\n",
    "            method_eu is False and\n",
    "            start_month == 2 and (\n",
    "                start_day == 29 or (\n",
    "                    start_day == 28 and\n",
    "                    start_date.is_leap_year is False\n",
    "                )\n",
    "            )\n",
    "        )\n",
    "    ):\n",
    "        start_day = 30\n",
    "\n",
    "    if end_day == 31:\n",
    "        if method_eu is False and start_day != 30:\n",
    "            end_day = 1\n",
    "\n",
    "            if end_month == 12:\n",
    "                end_year += 1\n",
    "                end_month = 1\n",
    "            else:\n",
    "                end_month += 1\n",
    "        else:\n",
    "            end_day = 30\n",
    "\n",
    "    return (\n",
    "        end_day + end_month * 30 + end_year * 360 -\n",
    "        start_day - start_month * 30 - start_year * 360)"
   ]
  },
  {
   "cell_type": "code",
   "execution_count": 358,
   "metadata": {},
   "outputs": [],
   "source": [
    "# part_payment_dict = {9:[[1],[416]]}\n",
    "part_payment_dict = {9:[[1,15],[416,1000]]}\n",
    "\n"
   ]
  },
  {
   "cell_type": "code",
   "execution_count": 344,
   "metadata": {},
   "outputs": [],
   "source": [
    "part_payment_dict = {9:[[1],[416]]}\n"
   ]
  },
  {
   "cell_type": "code",
   "execution_count": 334,
   "metadata": {},
   "outputs": [
    {
     "data": {
      "text/plain": [
       "15"
      ]
     },
     "execution_count": 334,
     "metadata": {},
     "output_type": "execute_result"
    },
    {
     "data": {
      "text/plain": [
       "2"
      ]
     },
     "execution_count": 334,
     "metadata": {},
     "output_type": "execute_result"
    }
   ],
   "source": [
    "i=0\n",
    "part_payment_dict.get(sm)[0][i+1]\n",
    "len(part_payment_dict.get(9)[0])\n"
   ]
  },
  {
   "cell_type": "code",
   "execution_count": 410,
   "metadata": {},
   "outputs": [],
   "source": [
    "part_payment_dict = {9:[[1,15],[416,[1000,2000]]]}\n"
   ]
  },
  {
   "cell_type": "code",
   "execution_count": 453,
   "metadata": {},
   "outputs": [],
   "source": [
    "# end_of_month_dates = ['2022-01-31', '2022-02-28', '2022-03-31', '2022-04-30', '2022-05-31', '2022-06-30', '2022-07-31', '2022-08-31', '2022-09-30', '2022-10-31', '2022-11-30', '2022-12-31']\n",
    "# principal = 35701.08\n",
    "# roi = 26.73\n",
    "# emi = 7396\n",
    "# sm = 9\n",
    "# part_payment_dict = {9:[[1],[416]]}\n",
    "# part_payment_dict = {9:[[1,15],[416,1000]]}\n",
    "\n",
    "def part_payment_interest(end_of_month_dates,principal,roi,emi,part_payment_dict,sm):\n",
    "    start_date = pd.to_datetime(f\"{end_of_month_dates[sm-2]}\")\n",
    "\n",
    "    if len(part_payment_dict.get(sm)[0]) == 1:\n",
    "        i = 0\n",
    "        interest_value_1 = principal * (roi/ 36000) * days360(pd.to_datetime(f\"{start_date}\"), pd.to_datetime(f'2022-{sm}-{part_payment_dict.get(sm)[0][i]}'))\n",
    "        if type(part_payment_dict.get(sm)[1][i]) == list:\n",
    "            principal = principal - sum(part_payment_dict.get(sm)[1][i])\n",
    "        else:\n",
    "            principal = principal - part_payment_dict.get(sm)[1][i]\n",
    "        interest_value_2 = principal * (roi/ 36000) * days360(pd.to_datetime(f'2022-{sm}-{part_payment_dict.get(sm)[0][i]}'), pd.to_datetime(f\"{end_of_month_dates[sm-1]}\"))\n",
    "        interest_value = interest_value_1 + interest_value_2\n",
    "        principal_apposition = emi - interest_value\n",
    "        principal = principal - principal_apposition\n",
    "        return interest_value, principal, principal_apposition\n",
    "    else:\n",
    "        end_date = pd.to_datetime(f'2022-{sm}-{part_payment_dict.get(sm)[0][0]}')\n",
    "        interest_value = 0\n",
    "        for i in range(len(part_payment_dict.get(sm)[0])+1):\n",
    "            interest_value_1 = principal * (roi/ 36000) * days360(pd.to_datetime(f\"{start_date}\"), pd.to_datetime(f\"{end_date}\"))\n",
    "            print(\"start_date\",start_date)\n",
    "            print(\"end_date\",end_date)\n",
    "            print(\"interest_value in loop\",interest_value)\n",
    "            if i==len(part_payment_dict.get(sm)[0]):\n",
    "                principal = principal - 0\n",
    "            else:\n",
    "                if type(part_payment_dict.get(sm)[1][i]) == list:\n",
    "                    principal = principal - sum(part_payment_dict.get(sm)[1][i])\n",
    "                else:\n",
    "                    principal = principal - part_payment_dict.get(sm)[1][i]\n",
    "            if i==len(part_payment_dict.get(sm)[0])-1:\n",
    "                end_date = pd.to_datetime(f\"{end_of_month_dates[sm-1]}\")\n",
    "                start_date = f\"2022-{sm}-{part_payment_dict.get(sm)[0][i]}\"\n",
    "            elif i==len(part_payment_dict.get(sm)[0]):\n",
    "                end_date = pd.to_datetime(f\"{end_of_month_dates[sm-1]}\")\n",
    "            else:\n",
    "                end_date = pd.to_datetime(f'2022-{sm}-{part_payment_dict.get(sm)[0][i+1]}')\n",
    "                start_date = f\"2022-{sm}-{part_payment_dict.get(sm)[0][i]}\"\n",
    "\n",
    "\n",
    "            interest_value = interest_value + interest_value_1\n",
    "            print(\"inside loop\",interest_value)\n",
    "        \n",
    "        principal_apposition = emi - interest_value\n",
    "        print(\"principal_apposition\",principal_apposition)\n",
    "        print(\"interest_value after loop\",interest_value)\n",
    "        principal = principal - principal_apposition\n",
    "        return interest_value, principal, principal_apposition\n",
    "    "
   ]
  },
  {
   "cell_type": "code",
   "execution_count": 454,
   "metadata": {},
   "outputs": [],
   "source": [
    "\n",
    "end_of_month_dates = ['2022-01-31', '2022-02-28', '2022-03-31', '2022-04-30', '2022-05-31', '2022-06-30', '2022-07-31', '2022-08-31', '2022-09-30', '2022-10-31', '2022-11-30', '2022-12-31']\n",
    "interest_value_list = []\n",
    "\n",
    "def first_closing_prinicipal(principal, roi, emi):\n",
    "    first_interest = principal * (roi/1200)\n",
    "    interest_value_list.append(first_interest)\n",
    "    print(\"first interest\",round(first_interest, 2))\n",
    "    principal_apposition = emi - first_interest\n",
    "    print(\"first prinicipal appo\",round(principal_apposition, 2))\n",
    "    closing_principal = principal - principal_apposition\n",
    "    print(\"first closing prinicipal\",round(closing_principal, 2))\n",
    "    return closing_principal\n",
    "\n",
    "\n",
    "def next_values(principal, roi, emi, date, sm, em, part_payment_dict):\n",
    "\n",
    "    if sm <= 6:\n",
    "        interest_value = principal * (roi/ 36000) * days360(pd.to_datetime(f'2022-{sm}-{date}'), pd.to_datetime(f'2022-{em}-{date}'))\n",
    "        # print(\"days360 value\",days360(pd.to_datetime(f'2022-{sm}-{date}'), pd.to_datetime(f'2022-{em}-{date}')))\n",
    "        # print(\"sm, em\", sm, em)\n",
    "        # print(\"date\",date)\n",
    "        print(\"interest value\", round(interest_value,2))\n",
    "        interest_value_list.append(interest_value)\n",
    "        principal_apposition = emi - interest_value\n",
    "        print(\"principal apposition\", round(principal_apposition,2))\n",
    "        principal = principal - principal_apposition\n",
    "        print(\"closing principal\", round(principal,2))\n",
    "        if sm==6:\n",
    "            # print(\"closing principal inside june before interest\", round(principal,2))\n",
    "            interest_value = principal * (roi/ 36000) * days360(pd.to_datetime(f'2022-6-{date}'), pd.to_datetime(f'2022-6-30'))\n",
    "            interest_value_list.append(interest_value)\n",
    "            print(\"inside june interest\", round(interest_value,2))\n",
    "            principal = principal + interest_value\n",
    "            print(\"june closing principal\", round(principal,2))\n",
    "    if sm>6:\n",
    "\n",
    "        # print(\"closing principal after june before interest\", round(principal,2))\n",
    "        if part_payment_dict.get(sm):\n",
    "            print(\"INSIDE PART PAYMENT sm, em\", sm, em)\n",
    "            print(\"principal before part payment\", round(principal,2))\n",
    "            interest_value, principal, principal_apposition = part_payment_interest(end_of_month_dates,principal,roi,emi,part_payment_dict,sm)\n",
    "            print(\"principal after part payment\", round(principal,2))\n",
    "            print(\"principal apposition after part payment\", round(principal_apposition,2))\n",
    "            print(\"interest value after part payment\", round(interest_value,2))\n",
    "            \n",
    "\n",
    "        else:\n",
    "            interest_value = principal * (roi/ 36000) * days360(pd.to_datetime(f\"{end_of_month_dates[sm-2]}\"), pd.to_datetime(f\"{end_of_month_dates[sm-1]}\"))\n",
    "\n",
    "            #print(\"days360 value\",days360(pd.to_datetime(f'2022-{sm}-{date}'), pd.to_datetime(f'2022-{em}-{date}')))\n",
    "            print(\"sm, em\", sm, em)\n",
    "            #print(\"date\",date)\n",
    "            print(\"interest value\", round(interest_value,2))\n",
    "            interest_value_list.append(interest_value)\n",
    "\n",
    "            principal_apposition = emi - interest_value\n",
    "            print(\"principal apposition\", round(principal_apposition,2))\n",
    "            principal = principal - principal_apposition\n",
    "            print(\"closing principal\", round(principal,2))\n",
    "        \n",
    "    return interest_value,principal"
   ]
  },
  {
   "cell_type": "code",
   "execution_count": 455,
   "metadata": {},
   "outputs": [
    {
     "name": "stdout",
     "output_type": "stream",
     "text": [
      "first interest 4561.49\n",
      "first prinicipal appo 4903.51\n",
      "first closing prinicipal 207835.92\n",
      "interest value 4456.35\n",
      "principal apposition 5008.65\n",
      "closing principal 202827.27\n",
      "interest value 4348.95\n",
      "principal apposition 5116.05\n",
      "closing principal 197711.22\n",
      "inside june interest 3250.1\n",
      "june closing principal 200961.32\n",
      "sm, em 7 8\n",
      "interest value 4308.95\n",
      "principal apposition 5156.05\n",
      "closing principal 195805.26\n",
      "sm, em 8 9\n",
      "interest value 4198.39\n",
      "principal apposition 5266.61\n",
      "closing principal 190538.66\n",
      "sm, em 9 10\n",
      "interest value 4085.47\n",
      "principal apposition 5379.53\n",
      "closing principal 185159.12\n"
     ]
    }
   ],
   "source": [
    "#APRIL MONTH INTEREST\n",
    "principal = first_closing_prinicipal(principal_list[0], roi_list[0], emi_list[0])\n",
    "part_payment_dict = {}\n",
    "for i in range(5, 10):\n",
    "    interest_value, closing_principal_2 = next_values(principal, roi_list[0], emi_list[0], edd_list[0], i, i+1, part_payment_dict)\n",
    "    principal = closing_principal_2"
   ]
  },
  {
   "cell_type": "code",
   "execution_count": 419,
   "metadata": {},
   "outputs": [
    {
     "name": "stdout",
     "output_type": "stream",
     "text": [
      "first interest 4561.49\n",
      "first prinicipal appo 4903.51\n",
      "first closing prinicipal 207835.92\n",
      "interest value 4456.35\n",
      "principal apposition 5008.65\n",
      "closing principal 202827.27\n",
      "interest value 4348.95\n",
      "principal apposition 5116.05\n",
      "closing principal 197711.22\n",
      "inside june interest 3250.1\n",
      "june closing principal 200961.32\n",
      "sm, em 7 8\n",
      "interest value 4308.95\n",
      "principal apposition 5156.05\n",
      "closing principal 195805.26\n",
      "sm, em 8 9\n",
      "interest value 4198.39\n",
      "principal apposition 5266.61\n",
      "closing principal 190538.66\n",
      "sm, em 9 10\n",
      "interest value 4085.47\n",
      "principal apposition 5379.53\n",
      "closing principal 185159.12\n"
     ]
    }
   ],
   "source": [
    "#APRIL MONTH INTEREST\n",
    "principal = first_closing_prinicipal(principal_list[0], roi_list[0], emi_list[0])\n",
    "part_payment_dict = {}\n",
    "for i in range(5, 10):\n",
    "    interest_value, closing_principal_2 = next_values(principal, roi_list[0], emi_list[0], edd_list[0], i, i+1, part_payment_dict)\n",
    "    principal = closing_principal_2"
   ]
  },
  {
   "cell_type": "code",
   "execution_count": 147,
   "metadata": {},
   "outputs": [
    {
     "name": "stdout",
     "output_type": "stream",
     "text": [
      "[4561.49, 4456.35, 4348.95, 3250.1, 4308.95, 4198.39, 4085.47]\n"
     ]
    }
   ],
   "source": [
    "print(interest_value_list)"
   ]
  },
  {
   "cell_type": "code",
   "execution_count": 154,
   "metadata": {},
   "outputs": [
    {
     "data": {
      "text/html": [
       "<div>\n",
       "<style scoped>\n",
       "    .dataframe tbody tr th:only-of-type {\n",
       "        vertical-align: middle;\n",
       "    }\n",
       "\n",
       "    .dataframe tbody tr th {\n",
       "        vertical-align: top;\n",
       "    }\n",
       "\n",
       "    .dataframe thead th {\n",
       "        text-align: right;\n",
       "    }\n",
       "</style>\n",
       "<table border=\"1\" class=\"dataframe\">\n",
       "  <thead>\n",
       "    <tr style=\"text-align: right;\">\n",
       "      <th></th>\n",
       "      <th>Loan Account</th>\n",
       "      <th>Principal-M</th>\n",
       "      <th>Rate-of-interest</th>\n",
       "      <th>EMI</th>\n",
       "      <th>Earlier-due-date</th>\n",
       "      <th>New-due-date</th>\n",
       "      <th>Date</th>\n",
       "      <th>interest_april</th>\n",
       "      <th>interest_april1</th>\n",
       "    </tr>\n",
       "  </thead>\n",
       "  <tbody>\n",
       "    <tr>\n",
       "      <th>0</th>\n",
       "      <td>FDSG898123</td>\n",
       "      <td>212739.43</td>\n",
       "      <td>25.73</td>\n",
       "      <td>9465</td>\n",
       "      <td>7</td>\n",
       "      <td>30</td>\n",
       "      <td>2022-07-31</td>\n",
       "      <td>4561.49</td>\n",
       "      <td>4561.49</td>\n",
       "    </tr>\n",
       "    <tr>\n",
       "      <th>1</th>\n",
       "      <td>FDSG898123</td>\n",
       "      <td>37990.00</td>\n",
       "      <td>26.50</td>\n",
       "      <td>5917</td>\n",
       "      <td>7</td>\n",
       "      <td>30</td>\n",
       "      <td>2022-07-31</td>\n",
       "      <td>4561.49</td>\n",
       "      <td></td>\n",
       "    </tr>\n",
       "  </tbody>\n",
       "</table>\n",
       "</div>"
      ],
      "text/plain": [
       "  Loan Account  Principal-M  Rate-of-interest   EMI  Earlier-due-date  \\\n",
       "0   FDSG898123    212739.43             25.73  9465                 7   \n",
       "1   FDSG898123     37990.00             26.50  5917                 7   \n",
       "\n",
       "   New-due-date       Date  interest_april interest_april1  \n",
       "0            30 2022-07-31         4561.49         4561.49  \n",
       "1            30 2022-07-31         4561.49                  "
      ]
     },
     "execution_count": 154,
     "metadata": {},
     "output_type": "execute_result"
    }
   ],
   "source": [
    "df['april_interest'] = \"\"\n",
    "df['may_interest'] = \"\"\n",
    "df['june_interest'] = \"\"\n",
    "df['june_interest'] = \"\"\n",
    "df['july_interest'] = \"\"\n",
    "df['august_interest'] = \"\"\n",
    "df['september_interest'] = \"\"\n",
    "\n",
    "df['april_interest1'] = \"\"\n",
    "df['may_interest1'] = \"\"\n",
    "df['june_interest1'] = \"\"\n",
    "df['july_interest1'] = \"\"\n",
    "df['august_interest1'] = \"\"\n",
    "df['september_interest1'] = \"\""
   ]
  },
  {
   "cell_type": "code",
   "execution_count": 31,
   "metadata": {},
   "outputs": [],
   "source": [
    "# decimal - done \n",
    "# june  interest value - done\n",
    "# prepayment logic - done\n",
    "# prepayment interest calculation - done\n",
    "# multiple prepayment in same month - done\n",
    "# same date multiple prepayment - done\n",
    "# prepayment before june\n",
    "# same date = end date => part payment case \n",
    "# sample data verification"
   ]
  }
 ],
 "metadata": {
  "kernelspec": {
   "display_name": "Python 3.7.11 ('base')",
   "language": "python",
   "name": "python3"
  },
  "language_info": {
   "codemirror_mode": {
    "name": "ipython",
    "version": 3
   },
   "file_extension": ".py",
   "mimetype": "text/x-python",
   "name": "python",
   "nbconvert_exporter": "python",
   "pygments_lexer": "ipython3",
   "version": "3.7.11"
  },
  "orig_nbformat": 4,
  "vscode": {
   "interpreter": {
    "hash": "da551bdb23468983aecb3a9b5cbad04f6cb1882153fd7bd39255cef19061f651"
   }
  }
 },
 "nbformat": 4,
 "nbformat_minor": 2
}
