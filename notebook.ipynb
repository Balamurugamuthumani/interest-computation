{
 "cells": [
  {
   "cell_type": "code",
   "execution_count": 76,
   "metadata": {},
   "outputs": [],
   "source": [
    "import pandas as pd\n",
    "import numpy as np\n",
    "from pandas.tseries.offsets import MonthEnd\n"
   ]
  },
  {
   "cell_type": "code",
   "execution_count": 132,
   "metadata": {},
   "outputs": [],
   "source": [
    "#FSAPLALONS000005003574,6472722,511,27-05-2022\n",
    "from IPython.core.interactiveshell import InteractiveShell\n",
    "\n",
    "InteractiveShell.ast_node_interactivity = \"all\""
   ]
  },
  {
   "cell_type": "code",
   "execution_count": 129,
   "metadata": {},
   "outputs": [
    {
     "data": {
      "text/html": [
       "<div>\n",
       "<style scoped>\n",
       "    .dataframe tbody tr th:only-of-type {\n",
       "        vertical-align: middle;\n",
       "    }\n",
       "\n",
       "    .dataframe tbody tr th {\n",
       "        vertical-align: top;\n",
       "    }\n",
       "\n",
       "    .dataframe thead th {\n",
       "        text-align: right;\n",
       "    }\n",
       "</style>\n",
       "<table border=\"1\" class=\"dataframe\">\n",
       "  <thead>\n",
       "    <tr style=\"text-align: right;\">\n",
       "      <th></th>\n",
       "      <th>Loan Account</th>\n",
       "      <th>Principal-M</th>\n",
       "      <th>Rate-of-interest</th>\n",
       "      <th>EMI</th>\n",
       "      <th>Earlier-due-date</th>\n",
       "      <th>New-due-date</th>\n",
       "    </tr>\n",
       "  </thead>\n",
       "  <tbody>\n",
       "    <tr>\n",
       "      <th>0</th>\n",
       "      <td>FSAPLALONS000005000073</td>\n",
       "      <td>212739.43</td>\n",
       "      <td>25.73</td>\n",
       "      <td>9465</td>\n",
       "      <td>7</td>\n",
       "      <td>30</td>\n",
       "    </tr>\n",
       "    <tr>\n",
       "      <th>1</th>\n",
       "      <td>FSAPLALONS000005000072</td>\n",
       "      <td>37990.00</td>\n",
       "      <td>26.50</td>\n",
       "      <td>5917</td>\n",
       "      <td>7</td>\n",
       "      <td>30</td>\n",
       "    </tr>\n",
       "    <tr>\n",
       "      <th>2</th>\n",
       "      <td>FSAPLALONS000005003574</td>\n",
       "      <td>65652.69</td>\n",
       "      <td>26.73</td>\n",
       "      <td>7396</td>\n",
       "      <td>1</td>\n",
       "      <td>30</td>\n",
       "    </tr>\n",
       "  </tbody>\n",
       "</table>\n",
       "</div>"
      ],
      "text/plain": [
       "             Loan Account  Principal-M  Rate-of-interest   EMI  \\\n",
       "0  FSAPLALONS000005000073    212739.43             25.73  9465   \n",
       "1  FSAPLALONS000005000072     37990.00             26.50  5917   \n",
       "2  FSAPLALONS000005003574     65652.69             26.73  7396   \n",
       "\n",
       "   Earlier-due-date  New-due-date  \n",
       "0                 7            30  \n",
       "1                 7            30  \n",
       "2                 1            30  "
      ]
     },
     "execution_count": 129,
     "metadata": {},
     "output_type": "execute_result"
    }
   ],
   "source": [
    "df = pd.read_csv(\"data.csv\")\n",
    "df.head()"
   ]
  },
  {
   "cell_type": "code",
   "execution_count": 177,
   "metadata": {},
   "outputs": [
    {
     "data": {
      "text/html": [
       "<div>\n",
       "<style scoped>\n",
       "    .dataframe tbody tr th:only-of-type {\n",
       "        vertical-align: middle;\n",
       "    }\n",
       "\n",
       "    .dataframe tbody tr th {\n",
       "        vertical-align: top;\n",
       "    }\n",
       "\n",
       "    .dataframe thead th {\n",
       "        text-align: right;\n",
       "    }\n",
       "</style>\n",
       "<table border=\"1\" class=\"dataframe\">\n",
       "  <thead>\n",
       "    <tr style=\"text-align: right;\">\n",
       "      <th></th>\n",
       "      <th>Loan Account</th>\n",
       "      <th>Receipt Number</th>\n",
       "      <th>PART_PREPAY_AMOUNT</th>\n",
       "      <th>REPAY_EFFECTIVE_DATE</th>\n",
       "    </tr>\n",
       "  </thead>\n",
       "  <tbody>\n",
       "    <tr>\n",
       "      <th>0</th>\n",
       "      <td>FSAPLALONS000005000115</td>\n",
       "      <td>6458210</td>\n",
       "      <td>729</td>\n",
       "      <td>2022-04-11</td>\n",
       "    </tr>\n",
       "    <tr>\n",
       "      <th>1</th>\n",
       "      <td>FSAPLALONS000005000330</td>\n",
       "      <td>6490591</td>\n",
       "      <td>208</td>\n",
       "      <td>2022-04-30</td>\n",
       "    </tr>\n",
       "    <tr>\n",
       "      <th>2</th>\n",
       "      <td>FSAPLALONS000005000407</td>\n",
       "      <td>6574372</td>\n",
       "      <td>866</td>\n",
       "      <td>2022-06-23</td>\n",
       "    </tr>\n",
       "    <tr>\n",
       "      <th>3</th>\n",
       "      <td>FSAPLALONS000005000487</td>\n",
       "      <td>6472702</td>\n",
       "      <td>598</td>\n",
       "      <td>2022-04-20</td>\n",
       "    </tr>\n",
       "    <tr>\n",
       "      <th>4</th>\n",
       "      <td>FSAPLALONS000005000073</td>\n",
       "      <td>6472722</td>\n",
       "      <td>1000</td>\n",
       "      <td>2022-11-07</td>\n",
       "    </tr>\n",
       "  </tbody>\n",
       "</table>\n",
       "</div>"
      ],
      "text/plain": [
       "             Loan Account  Receipt Number  PART_PREPAY_AMOUNT  \\\n",
       "0  FSAPLALONS000005000115         6458210                 729   \n",
       "1  FSAPLALONS000005000330         6490591                 208   \n",
       "2  FSAPLALONS000005000407         6574372                 866   \n",
       "3  FSAPLALONS000005000487         6472702                 598   \n",
       "4  FSAPLALONS000005000073         6472722                1000   \n",
       "\n",
       "  REPAY_EFFECTIVE_DATE  \n",
       "0           2022-04-11  \n",
       "1           2022-04-30  \n",
       "2           2022-06-23  \n",
       "3           2022-04-20  \n",
       "4           2022-11-07  "
      ]
     },
     "execution_count": 177,
     "metadata": {},
     "output_type": "execute_result"
    }
   ],
   "source": [
    "part_payment = pd.read_csv(\"pre-payment.csv\")\n",
    "part_payment['REPAY_EFFECTIVE_DATE'] = pd.to_datetime(part_payment['REPAY_EFFECTIVE_DATE'],format=\"%d-%m-%Y\")\n",
    "part_payment.head()"
   ]
  },
  {
   "cell_type": "code",
   "execution_count": 178,
   "metadata": {},
   "outputs": [
    {
     "data": {
      "text/html": [
       "<div>\n",
       "<style scoped>\n",
       "    .dataframe tbody tr th:only-of-type {\n",
       "        vertical-align: middle;\n",
       "    }\n",
       "\n",
       "    .dataframe tbody tr th {\n",
       "        vertical-align: top;\n",
       "    }\n",
       "\n",
       "    .dataframe thead th {\n",
       "        text-align: right;\n",
       "    }\n",
       "</style>\n",
       "<table border=\"1\" class=\"dataframe\">\n",
       "  <thead>\n",
       "    <tr style=\"text-align: right;\">\n",
       "      <th></th>\n",
       "      <th>Loan Account</th>\n",
       "      <th>Receipt Number</th>\n",
       "      <th>PART_PREPAY_AMOUNT</th>\n",
       "      <th>REPAY_EFFECTIVE_DATE</th>\n",
       "      <th>date</th>\n",
       "      <th>month</th>\n",
       "      <th>year</th>\n",
       "    </tr>\n",
       "  </thead>\n",
       "  <tbody>\n",
       "    <tr>\n",
       "      <th>0</th>\n",
       "      <td>FSAPLALONS000005000115</td>\n",
       "      <td>6458210</td>\n",
       "      <td>729</td>\n",
       "      <td>2022-04-11</td>\n",
       "      <td>11</td>\n",
       "      <td>4</td>\n",
       "      <td>2022</td>\n",
       "    </tr>\n",
       "    <tr>\n",
       "      <th>1</th>\n",
       "      <td>FSAPLALONS000005000330</td>\n",
       "      <td>6490591</td>\n",
       "      <td>208</td>\n",
       "      <td>2022-04-30</td>\n",
       "      <td>30</td>\n",
       "      <td>4</td>\n",
       "      <td>2022</td>\n",
       "    </tr>\n",
       "    <tr>\n",
       "      <th>2</th>\n",
       "      <td>FSAPLALONS000005000407</td>\n",
       "      <td>6574372</td>\n",
       "      <td>866</td>\n",
       "      <td>2022-06-23</td>\n",
       "      <td>23</td>\n",
       "      <td>6</td>\n",
       "      <td>2022</td>\n",
       "    </tr>\n",
       "    <tr>\n",
       "      <th>3</th>\n",
       "      <td>FSAPLALONS000005000487</td>\n",
       "      <td>6472702</td>\n",
       "      <td>598</td>\n",
       "      <td>2022-04-20</td>\n",
       "      <td>20</td>\n",
       "      <td>4</td>\n",
       "      <td>2022</td>\n",
       "    </tr>\n",
       "    <tr>\n",
       "      <th>4</th>\n",
       "      <td>FSAPLALONS000005000073</td>\n",
       "      <td>6472722</td>\n",
       "      <td>1000</td>\n",
       "      <td>2022-11-07</td>\n",
       "      <td>7</td>\n",
       "      <td>11</td>\n",
       "      <td>2022</td>\n",
       "    </tr>\n",
       "    <tr>\n",
       "      <th>5</th>\n",
       "      <td>FSAPLALONS000005000073</td>\n",
       "      <td>6472722</td>\n",
       "      <td>2000</td>\n",
       "      <td>2022-11-08</td>\n",
       "      <td>8</td>\n",
       "      <td>11</td>\n",
       "      <td>2022</td>\n",
       "    </tr>\n",
       "    <tr>\n",
       "      <th>6</th>\n",
       "      <td>FSAPLALONS000005003574</td>\n",
       "      <td>6472722</td>\n",
       "      <td>416</td>\n",
       "      <td>2022-09-01</td>\n",
       "      <td>1</td>\n",
       "      <td>9</td>\n",
       "      <td>2022</td>\n",
       "    </tr>\n",
       "  </tbody>\n",
       "</table>\n",
       "</div>"
      ],
      "text/plain": [
       "             Loan Account  Receipt Number  PART_PREPAY_AMOUNT  \\\n",
       "0  FSAPLALONS000005000115         6458210                 729   \n",
       "1  FSAPLALONS000005000330         6490591                 208   \n",
       "2  FSAPLALONS000005000407         6574372                 866   \n",
       "3  FSAPLALONS000005000487         6472702                 598   \n",
       "4  FSAPLALONS000005000073         6472722                1000   \n",
       "5  FSAPLALONS000005000073         6472722                2000   \n",
       "6  FSAPLALONS000005003574         6472722                 416   \n",
       "\n",
       "  REPAY_EFFECTIVE_DATE  date  month  year  \n",
       "0           2022-04-11    11      4  2022  \n",
       "1           2022-04-30    30      4  2022  \n",
       "2           2022-06-23    23      6  2022  \n",
       "3           2022-04-20    20      4  2022  \n",
       "4           2022-11-07     7     11  2022  \n",
       "5           2022-11-08     8     11  2022  \n",
       "6           2022-09-01     1      9  2022  "
      ]
     },
     "execution_count": 178,
     "metadata": {},
     "output_type": "execute_result"
    }
   ],
   "source": [
    "part_payment['date'] = pd.DatetimeIndex(part_payment['REPAY_EFFECTIVE_DATE']).day\n",
    "part_payment['month'] = pd.DatetimeIndex(part_payment['REPAY_EFFECTIVE_DATE']).month\n",
    "part_payment['year'] = pd.DatetimeIndex(part_payment['REPAY_EFFECTIVE_DATE']).year\n",
    "part_payment.head(8)"
   ]
  },
  {
   "cell_type": "code",
   "execution_count": 179,
   "metadata": {},
   "outputs": [
    {
     "name": "stdout",
     "output_type": "stream",
     "text": [
      "[[9, 1, 416]]\n"
     ]
    }
   ],
   "source": [
    "part_payment_list=part_payment.loc[part_payment['Loan Account']==\"FSAPLALONS000005003574\",['month','date','PART_PREPAY_AMOUNT']].values.tolist()\n",
    "print(part_payment_list)"
   ]
  },
  {
   "cell_type": "code",
   "execution_count": 180,
   "metadata": {},
   "outputs": [
    {
     "name": "stdout",
     "output_type": "stream",
     "text": [
      "{9: [1, [416]]}\n"
     ]
    }
   ],
   "source": [
    "part_payment_dict = {item[0]: [item[1],item[2:]] for item in part_payment_list}\n",
    "print(part_payment_dict)"
   ]
  },
  {
   "cell_type": "code",
   "execution_count": 181,
   "metadata": {},
   "outputs": [
    {
     "data": {
      "text/plain": [
       "[1, [416]]"
      ]
     },
     "execution_count": 181,
     "metadata": {},
     "output_type": "execute_result"
    }
   ],
   "source": [
    "part_payment_dict.get(9)"
   ]
  },
  {
   "cell_type": "code",
   "execution_count": 150,
   "metadata": {},
   "outputs": [
    {
     "data": {
      "text/plain": [
       "416"
      ]
     },
     "execution_count": 150,
     "metadata": {},
     "output_type": "execute_result"
    }
   ],
   "source": [
    "sm = 9 \n",
    "if sm == part_payment_dict.get('9-30'):\n",
    "    print(\"summa\")"
   ]
  },
  {
   "cell_type": "code",
   "execution_count": 130,
   "metadata": {},
   "outputs": [],
   "source": [
    "principal_list = df['Principal-M'].to_list()\n",
    "roi_list = df['Rate-of-interest'].to_list()\n",
    "emi_list = df['EMI'].to_list()\n",
    "edd_list = df['Earlier-due-date'].to_list()"
   ]
  },
  {
   "cell_type": "code",
   "execution_count": 41,
   "metadata": {},
   "outputs": [],
   "source": [
    "d = edd_list[0]\n",
    "sd = pd.to_datetime(f\"202204{d}\", format='%Y%m%d', errors='ignore')\n",
    "d = 6\n",
    "ed = pd.to_datetime(f\"202204{d}\", format='%Y%m%d', errors='ignore')\n"
   ]
  },
  {
   "cell_type": "code",
   "execution_count": 84,
   "metadata": {},
   "outputs": [
    {
     "data": {
      "text/plain": [
       "65653.0"
      ]
     },
     "execution_count": 84,
     "metadata": {},
     "output_type": "execute_result"
    }
   ],
   "source": [
    "principal_list[2]"
   ]
  },
  {
   "cell_type": "code",
   "execution_count": 85,
   "metadata": {},
   "outputs": [],
   "source": [
    "def days360(start_date, end_date, method_eu=False):\n",
    "    start_day = start_date.day\n",
    "    start_month = start_date.month\n",
    "    start_year = start_date.year\n",
    "    end_day = end_date.day\n",
    "    end_month = end_date.month\n",
    "    end_year = end_date.year\n",
    "\n",
    "    if (\n",
    "        start_day == 31 or\n",
    "        (\n",
    "            method_eu is False and\n",
    "            start_month == 2 and (\n",
    "                start_day == 29 or (\n",
    "                    start_day == 28 and\n",
    "                    start_date.is_leap_year is False\n",
    "                )\n",
    "            )\n",
    "        )\n",
    "    ):\n",
    "        start_day = 30\n",
    "\n",
    "    if end_day == 31:\n",
    "        if method_eu is False and start_day != 30:\n",
    "            end_day = 1\n",
    "\n",
    "            if end_month == 12:\n",
    "                end_year += 1\n",
    "                end_month = 1\n",
    "            else:\n",
    "                end_month += 1\n",
    "        else:\n",
    "            end_day = 30\n",
    "\n",
    "    return (\n",
    "        end_day + end_month * 30 + end_year * 360 -\n",
    "        start_day - start_month * 30 - start_year * 360)"
   ]
  },
  {
   "cell_type": "code",
   "execution_count": 129,
   "metadata": {},
   "outputs": [],
   "source": [
    "end_of_month_dates = ['2022-01-31', '2022-02-28', '2022-03-31', '2022-04-30', '2022-05-31', '2022-06-30', '2022-07-31', '2022-08-31', '2022-09-30', '2022-10-31', '2022-11-30', '2022-12-31']"
   ]
  },
  {
   "cell_type": "code",
   "execution_count": 89,
   "metadata": {},
   "outputs": [
    {
     "data": {
      "text/plain": [
       "416"
      ]
     },
     "execution_count": 89,
     "metadata": {},
     "output_type": "execute_result"
    }
   ],
   "source": [
    "sum(part_payment_dict.get(9))"
   ]
  },
  {
   "cell_type": "code",
   "execution_count": null,
   "metadata": {},
   "outputs": [],
   "source": []
  },
  {
   "cell_type": "code",
   "execution_count": 217,
   "metadata": {},
   "outputs": [],
   "source": [
    "end_of_month_dates = ['2022-01-31', '2022-02-28', '2022-03-31', '2022-04-30', '2022-05-31', '2022-06-30', '2022-07-31', '2022-08-31', '2022-09-30', '2022-10-31', '2022-11-30', '2022-12-31']\n",
    "interest_value_list = []\n",
    "\n",
    "def first_closing_prinicipal(principal, roi, emi):\n",
    "    first_interest = principal * (roi/1200)\n",
    "    interest_value_list.append(first_interest)\n",
    "    print(\"first interest\",round(first_interest, 2))\n",
    "    principal_apposition = emi - first_interest\n",
    "    print(\"first prinicipal appo\",round(principal_apposition, 2))\n",
    "    closing_principal = principal - principal_apposition\n",
    "    print(\"first closing prinicipal\",round(closing_principal, 2))\n",
    "    return closing_principal\n",
    "\n",
    "def next_values(principal, roi, emi, date, sm, em, part_payment_dict):\n",
    "\n",
    "    if sm <= 6:\n",
    "        interest_value = principal * (roi/ 36000) * days360(pd.to_datetime(f'2022-{sm}-{date}'), pd.to_datetime(f'2022-{em}-{date}'))\n",
    "        # print(\"days360 value\",days360(pd.to_datetime(f'2022-{sm}-{date}'), pd.to_datetime(f'2022-{em}-{date}')))\n",
    "        # print(\"sm, em\", sm, em)\n",
    "        # print(\"date\",date)\n",
    "        print(\"interest value\", round(interest_value,2))\n",
    "        interest_value_list.append(interest_value)\n",
    "        principal_apposition = emi - interest_value\n",
    "        print(\"principal apposition\", round(principal_apposition,2))\n",
    "        principal = principal - principal_apposition\n",
    "        print(\"closing principal\", round(principal,2))\n",
    "        if sm==6:\n",
    "            print(\"closing principal inside june before interest\", round(principal,2))\n",
    "            interest_value = principal * (roi/ 36000) * days360(pd.to_datetime(f'2022-6-{date}'), pd.to_datetime(f'2022-6-30'))\n",
    "            interest_value_list.append(interest_value)\n",
    "            print(\"inside june interest\", round(interest_value,2))\n",
    "            principal = principal + interest_value\n",
    "            print(\"june closing principal\", round(principal,2))\n",
    "    if sm>6:\n",
    "        print(\"closing principal after june before interest\", round(principal,2))\n",
    "        if part_payment_dict.get(sm):\n",
    "            principal = principal - sum(part_payment_dict.get(sm)[1])\n",
    "            interest_value = principal * (roi/ 36000) * days360(pd.to_datetime(f\"{end_of_month_dates[sm-2]}\"), pd.to_datetime(f'2022-{sm}-{part_payment_dict.get(sm)[0]}'))\n",
    "            print(\"START DATE\",pd.to_datetime(f\"{end_of_month_dates[sm-2]}\"))\n",
    "            print(\"END DATE\",pd.to_datetime(f'2022-{sm}-{part_payment_dict.get(sm)[0]}'))\n",
    "            print(\"INTEREST VALUE\", round(interest_value),2)\n",
    "            print(\"principal after part payment\", round(principal,2))\n",
    "\n",
    "        interest_value = principal * (roi/ 36000) * days360(pd.to_datetime(f\"{end_of_month_dates[sm-1]}\"), pd.to_datetime(f\"{end_of_month_dates[sm]}\"))\n",
    "\n",
    "        # print(\"days360 value\",days360(pd.to_datetime(f'2022-{sm}-{date}'), pd.to_datetime(f'2022-{em}-{date}')))\n",
    "        # print(\"sm, em\", sm, em)\n",
    "        # print(\"date\",date)\n",
    "        print(\"interest value\", round(interest_value,2))\n",
    "        interest_value_list.append(interest_value)\n",
    "\n",
    "        principal_apposition = emi - interest_value\n",
    "        print(\"principal apposition\", round(principal_apposition,2))\n",
    "        principal = principal - principal_apposition\n",
    "        print(\"closing principal\", round(principal,2))\n",
    "        \n",
    "    return interest_value,principal"
   ]
  },
  {
   "cell_type": "code",
   "execution_count": 211,
   "metadata": {},
   "outputs": [
    {
     "data": {
      "text/plain": [
       "'2022-08-31'"
      ]
     },
     "execution_count": 211,
     "metadata": {},
     "output_type": "execute_result"
    }
   ],
   "source": [
    "end_of_month_dates[7]"
   ]
  },
  {
   "cell_type": "code",
   "execution_count": 212,
   "metadata": {},
   "outputs": [
    {
     "data": {
      "text/plain": [
       "Timestamp('2022-09-01 00:00:00')"
      ]
     },
     "execution_count": 212,
     "metadata": {},
     "output_type": "execute_result"
    }
   ],
   "source": [
    "sm =9 \n",
    "pd.to_datetime(f'2022-{sm}-{part_payment_dict.get(sm)[0]}')"
   ]
  },
  {
   "cell_type": "code",
   "execution_count": 218,
   "metadata": {},
   "outputs": [
    {
     "name": "stdout",
     "output_type": "stream",
     "text": [
      "first interest 1462.41\n",
      "first prinicipal appo 5933.59\n",
      "first closing prinicipal 59719.1\n",
      "interest value 1330.24\n",
      "principal apposition 6065.76\n",
      "closing principal 53653.35\n",
      "interest value 1195.13\n",
      "principal apposition 6200.87\n",
      "closing principal 47452.48\n",
      "closing principal inside june before interest 47452.48\n",
      "inside june interest 1021.77\n",
      "june closing principal 48474.25\n",
      "closing principal after june before interest 48474.25\n",
      "interest value 1079.76\n",
      "principal apposition 6316.24\n",
      "closing principal 42158.01\n",
      "closing principal after june before interest 42158.01\n",
      "interest value 939.07\n",
      "principal apposition 6456.93\n",
      "closing principal 35701.08\n",
      "closing principal after june before interest 35701.08\n",
      "START DATE 2022-08-31 00:00:00\n",
      "END DATE 2022-09-01 00:00:00\n",
      "INTEREST VALUE 26 2\n",
      "principal after part payment 35285.08\n",
      "interest value 785.98\n",
      "principal apposition 6610.02\n",
      "closing principal 28675.05\n"
     ]
    }
   ],
   "source": [
    "closing_principal = first_closing_prinicipal(principal_list[2], roi_list[2], emi_list[2])\n",
    "for i in range(5, 10):\n",
    "    interest_value, closing_principal_2 = next_values(closing_principal, roi_list[2], emi_list[2], edd_list[2], i, i+1, part_payment_dict)\n",
    "    closing_principal = closing_principal_2\n",
    "    # else:\n",
    "    #     break"
   ]
  },
  {
   "cell_type": "code",
   "execution_count": null,
   "metadata": {},
   "outputs": [],
   "source": [
    "closing_principal = first_closing_prinicipal(principal_list[0], roi_list[0], emi_list[0])\n",
    "for i in range(5, 10):\n",
    "    interest_value, closing_principal_2 = next_values(closing_principal, roi_list[0], emi_list[0], edd_list[0], i, i+1)\n",
    "    closing_principal = closing_principal_2\n",
    "    # else:\n",
    "    #     break\n",
    "print(round(interest_value,2))"
   ]
  },
  {
   "cell_type": "code",
   "execution_count": null,
   "metadata": {},
   "outputs": [],
   "source": [
    "closing_principal = first_closing_prinicipal(principal_list[0], roi_list[0], emi_list[0])\n",
    "for i in range(5, 10):\n",
    "    interest_value, closing_principal_2 = next_values(closing_principal, roi_list[0], emi_list[0], edd_list[0], i, i+1, part_payment_dict)\n",
    "    closing_principal = closing_principal_2\n",
    "    # else:\n",
    "    #     break\n",
    "print(round(interest_value,2))"
   ]
  },
  {
   "cell_type": "code",
   "execution_count": 147,
   "metadata": {},
   "outputs": [
    {
     "name": "stdout",
     "output_type": "stream",
     "text": [
      "[4561.49, 4456.35, 4348.95, 3250.1, 4308.95, 4198.39, 4085.47]\n"
     ]
    }
   ],
   "source": [
    "print(interest_value_list)"
   ]
  },
  {
   "cell_type": "code",
   "execution_count": 152,
   "metadata": {},
   "outputs": [],
   "source": [
    "df['interest_april1'] = \"\""
   ]
  },
  {
   "cell_type": "code",
   "execution_count": null,
   "metadata": {},
   "outputs": [],
   "source": []
  },
  {
   "cell_type": "code",
   "execution_count": 153,
   "metadata": {},
   "outputs": [
    {
     "name": "stderr",
     "output_type": "stream",
     "text": [
      "/home/laptop-pr-14/anaconda3/lib/python3.7/site-packages/pandas/core/indexing.py:1732: SettingWithCopyWarning: \n",
      "A value is trying to be set on a copy of a slice from a DataFrame\n",
      "\n",
      "See the caveats in the documentation: https://pandas.pydata.org/pandas-docs/stable/user_guide/indexing.html#returning-a-view-versus-a-copy\n",
      "  self._setitem_single_block(indexer, value, name)\n"
     ]
    }
   ],
   "source": [
    "df['interest_april1'].loc[0] = interest_value_list[0]"
   ]
  },
  {
   "cell_type": "code",
   "execution_count": 154,
   "metadata": {},
   "outputs": [
    {
     "data": {
      "text/html": [
       "<div>\n",
       "<style scoped>\n",
       "    .dataframe tbody tr th:only-of-type {\n",
       "        vertical-align: middle;\n",
       "    }\n",
       "\n",
       "    .dataframe tbody tr th {\n",
       "        vertical-align: top;\n",
       "    }\n",
       "\n",
       "    .dataframe thead th {\n",
       "        text-align: right;\n",
       "    }\n",
       "</style>\n",
       "<table border=\"1\" class=\"dataframe\">\n",
       "  <thead>\n",
       "    <tr style=\"text-align: right;\">\n",
       "      <th></th>\n",
       "      <th>Loan Account</th>\n",
       "      <th>Principal-M</th>\n",
       "      <th>Rate-of-interest</th>\n",
       "      <th>EMI</th>\n",
       "      <th>Earlier-due-date</th>\n",
       "      <th>New-due-date</th>\n",
       "      <th>Date</th>\n",
       "      <th>interest_april</th>\n",
       "      <th>interest_april1</th>\n",
       "    </tr>\n",
       "  </thead>\n",
       "  <tbody>\n",
       "    <tr>\n",
       "      <th>0</th>\n",
       "      <td>FDSG898123</td>\n",
       "      <td>212739.43</td>\n",
       "      <td>25.73</td>\n",
       "      <td>9465</td>\n",
       "      <td>7</td>\n",
       "      <td>30</td>\n",
       "      <td>2022-07-31</td>\n",
       "      <td>4561.49</td>\n",
       "      <td>4561.49</td>\n",
       "    </tr>\n",
       "    <tr>\n",
       "      <th>1</th>\n",
       "      <td>FDSG898123</td>\n",
       "      <td>37990.00</td>\n",
       "      <td>26.50</td>\n",
       "      <td>5917</td>\n",
       "      <td>7</td>\n",
       "      <td>30</td>\n",
       "      <td>2022-07-31</td>\n",
       "      <td>4561.49</td>\n",
       "      <td></td>\n",
       "    </tr>\n",
       "  </tbody>\n",
       "</table>\n",
       "</div>"
      ],
      "text/plain": [
       "  Loan Account  Principal-M  Rate-of-interest   EMI  Earlier-due-date  \\\n",
       "0   FDSG898123    212739.43             25.73  9465                 7   \n",
       "1   FDSG898123     37990.00             26.50  5917                 7   \n",
       "\n",
       "   New-due-date       Date  interest_april interest_april1  \n",
       "0            30 2022-07-31         4561.49         4561.49  \n",
       "1            30 2022-07-31         4561.49                  "
      ]
     },
     "execution_count": 154,
     "metadata": {},
     "output_type": "execute_result"
    }
   ],
   "source": [
    "df['april_interest'] = \"\"\n",
    "df['may_interest'] = \"\"\n",
    "df['june_interest'] = \"\"\n",
    "df['june_interest'] = \"\"\n",
    "df['july_interest'] = \"\"\n",
    "df['august_interest'] = \"\"\n",
    "df['september_interest'] = \"\"\n",
    "\n",
    "df['april_interest1'] = \"\"\n",
    "df['may_interest1'] = \"\"\n",
    "df['june_interest1'] = \"\"\n",
    "df['july_interest1'] = \"\"\n",
    "df['august_interest1'] = \"\"\n",
    "df['september_interest1'] = \"\""
   ]
  },
  {
   "cell_type": "code",
   "execution_count": null,
   "metadata": {},
   "outputs": [],
   "source": [
    "\n",
    "df['interest_april1'].loc[0] = interest_value_list[0]"
   ]
  },
  {
   "cell_type": "code",
   "execution_count": 106,
   "metadata": {},
   "outputs": [
    {
     "data": {
      "text/plain": [
       "0   2022-07-31\n",
       "1   2022-07-31\n",
       "Name: Date, dtype: datetime64[ns]"
      ]
     },
     "execution_count": 106,
     "metadata": {},
     "output_type": "execute_result"
    }
   ],
   "source": [
    "\n",
    "df['Date'] = pd.to_datetime(f'2022-6-30') + MonthEnd(1)\n",
    "df['Date'] "
   ]
  },
  {
   "cell_type": "code",
   "execution_count": 111,
   "metadata": {},
   "outputs": [
    {
     "data": {
      "text/plain": [
       "Timestamp('2022-06-30 00:00:00')"
      ]
     },
     "execution_count": 111,
     "metadata": {},
     "output_type": "execute_result"
    }
   ],
   "source": [
    "pd.to_datetime(f'2022-6-23') + MonthEnd(0)"
   ]
  },
  {
   "cell_type": "code",
   "execution_count": 50,
   "metadata": {},
   "outputs": [
    {
     "name": "stdout",
     "output_type": "stream",
     "text": [
      "4561.49\n"
     ]
    },
    {
     "data": {
      "text/plain": [
       "207835.91794491667"
      ]
     },
     "execution_count": 50,
     "metadata": {},
     "output_type": "execute_result"
    }
   ],
   "source": [
    "first_closing_prinicipal(principal_list[0], roi_list[0], emi_list[0])"
   ]
  },
  {
   "cell_type": "code",
   "execution_count": 51,
   "metadata": {},
   "outputs": [],
   "source": [
    "def pre_payment(closing_principal, payment):\n",
    "    updated_closing_principal =  closing_principal - payment\n",
    "    return updated_closing_principal\n"
   ]
  },
  {
   "cell_type": "code",
   "execution_count": 137,
   "metadata": {},
   "outputs": [
    {
     "name": "stdout",
     "output_type": "stream",
     "text": [
      "first interest 4561.49\n",
      "first prinicipal appo 4903.51\n",
      "first closing prinicipal 207835.92\n",
      "interest value 4456.35\n",
      "principal apposition 5008.65\n",
      "closing principal 202827.27\n",
      "interest value 4456.35\n",
      "principal apposition 5008.65\n",
      "closing principal 202827.27\n",
      "closing principal inside june before interest 202827.27\n",
      "inside june interest 3334.2\n",
      "june closing principal 206161.46\n",
      "closing principal inside june before interest 207835.92\n",
      "interest value 4456.35\n",
      "principal apposition 5008.65\n",
      "closing principal 202827.27\n",
      "closing principal inside june before interest 207835.92\n",
      "interest value 4456.35\n",
      "principal apposition 5008.65\n",
      "closing principal 202827.27\n",
      "closing principal inside june before interest 207835.92\n",
      "interest value 4456.35\n",
      "principal apposition 5008.65\n",
      "closing principal 202827.27\n",
      "4456.35\n"
     ]
    }
   ],
   "source": []
  },
  {
   "cell_type": "code",
   "execution_count": 53,
   "metadata": {},
   "outputs": [
    {
     "name": "stdout",
     "output_type": "stream",
     "text": [
      "-148.54463521095138\n"
     ]
    }
   ],
   "source": [
    "principal_list[0]\n",
    "interest_value = 207835.478725 * (roi_list[0] / 36000) * days360(sd,ed)\n",
    "print(interest_value)"
   ]
  },
  {
   "cell_type": "code",
   "execution_count": 30,
   "metadata": {},
   "outputs": [
    {
     "name": "stdout",
     "output_type": "stream",
     "text": [
      "4456.339056328541\n"
     ]
    }
   ],
   "source": [
    "interest_value = 207835.478725 * (25.73/ 36000) * days360(pd.to_datetime('2022-04-20'), pd.to_datetime('2022-05-20'))\n",
    "print(interest_value)"
   ]
  },
  {
   "cell_type": "code",
   "execution_count": 31,
   "metadata": {},
   "outputs": [],
   "source": [
    "# decimal - done \n",
    "# june  interest value - done\n",
    "# prepayment logic \n",
    "# prepayment interest calculation\n",
    "# prepayment before june\n",
    "# multiple prepayment in same month\n",
    "# sample data verification"
   ]
  },
  {
   "cell_type": "code",
   "execution_count": 32,
   "metadata": {},
   "outputs": [
    {
     "data": {
      "text/plain": [
       "-1"
      ]
     },
     "execution_count": 32,
     "metadata": {},
     "output_type": "execute_result"
    }
   ],
   "source": [
    "days360(sd,ed)"
   ]
  },
  {
   "cell_type": "code",
   "execution_count": null,
   "metadata": {},
   "outputs": [],
   "source": []
  },
  {
   "cell_type": "code",
   "execution_count": 33,
   "metadata": {},
   "outputs": [
    {
     "data": {
      "text/plain": [
       "30"
      ]
     },
     "execution_count": 33,
     "metadata": {},
     "output_type": "execute_result"
    }
   ],
   "source": [
    "days360(pd.to_datetime('2022-04-20'), pd.to_datetime('2022-05-20'))"
   ]
  },
  {
   "cell_type": "code",
   "execution_count": 34,
   "metadata": {},
   "outputs": [
    {
     "data": {
      "text/plain": [
       "1800"
      ]
     },
     "execution_count": 34,
     "metadata": {},
     "output_type": "execute_result"
    }
   ],
   "source": [
    "days360(pd.to_datetime('2012-11-27'), pd.to_datetime('2017-11-27'))"
   ]
  },
  {
   "cell_type": "code",
   "execution_count": null,
   "metadata": {},
   "outputs": [],
   "source": []
  }
 ],
 "metadata": {
  "kernelspec": {
   "display_name": "Python 3.7.11 ('base')",
   "language": "python",
   "name": "python3"
  },
  "language_info": {
   "codemirror_mode": {
    "name": "ipython",
    "version": 3
   },
   "file_extension": ".py",
   "mimetype": "text/x-python",
   "name": "python",
   "nbconvert_exporter": "python",
   "pygments_lexer": "ipython3",
   "version": "3.7.11"
  },
  "orig_nbformat": 4,
  "vscode": {
   "interpreter": {
    "hash": "da551bdb23468983aecb3a9b5cbad04f6cb1882153fd7bd39255cef19061f651"
   }
  }
 },
 "nbformat": 4,
 "nbformat_minor": 2
}
