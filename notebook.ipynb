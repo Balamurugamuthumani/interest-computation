{
 "cells": [
  {
   "cell_type": "code",
   "execution_count": 112,
   "metadata": {},
   "outputs": [],
   "source": [
    "import pandas as pd\n",
    "import numpy as np\n",
    "from pandas.tseries.offsets import MonthEnd\n"
   ]
  },
  {
   "cell_type": "code",
   "execution_count": 157,
   "metadata": {},
   "outputs": [
    {
     "data": {
      "text/html": [
       "<div>\n",
       "<style scoped>\n",
       "    .dataframe tbody tr th:only-of-type {\n",
       "        vertical-align: middle;\n",
       "    }\n",
       "\n",
       "    .dataframe tbody tr th {\n",
       "        vertical-align: top;\n",
       "    }\n",
       "\n",
       "    .dataframe thead th {\n",
       "        text-align: right;\n",
       "    }\n",
       "</style>\n",
       "<table border=\"1\" class=\"dataframe\">\n",
       "  <thead>\n",
       "    <tr style=\"text-align: right;\">\n",
       "      <th></th>\n",
       "      <th>Loan Account</th>\n",
       "      <th>Principal-M</th>\n",
       "      <th>Rate-of-interest</th>\n",
       "      <th>EMI</th>\n",
       "      <th>Earlier-due-date</th>\n",
       "      <th>New-due-date</th>\n",
       "    </tr>\n",
       "  </thead>\n",
       "  <tbody>\n",
       "    <tr>\n",
       "      <th>0</th>\n",
       "      <td>FSAPLALONS000005000073</td>\n",
       "      <td>212739.43</td>\n",
       "      <td>25.73</td>\n",
       "      <td>9465</td>\n",
       "      <td>7</td>\n",
       "      <td>30</td>\n",
       "    </tr>\n",
       "    <tr>\n",
       "      <th>1</th>\n",
       "      <td>FSAPLALONS000005000072</td>\n",
       "      <td>37990.00</td>\n",
       "      <td>26.50</td>\n",
       "      <td>5917</td>\n",
       "      <td>7</td>\n",
       "      <td>30</td>\n",
       "    </tr>\n",
       "  </tbody>\n",
       "</table>\n",
       "</div>"
      ],
      "text/plain": [
       "             Loan Account  Principal-M  Rate-of-interest   EMI  \\\n",
       "0  FSAPLALONS000005000073    212739.43             25.73  9465   \n",
       "1  FSAPLALONS000005000072     37990.00             26.50  5917   \n",
       "\n",
       "   Earlier-due-date  New-due-date  \n",
       "0                 7            30  \n",
       "1                 7            30  "
      ]
     },
     "execution_count": 157,
     "metadata": {},
     "output_type": "execute_result"
    }
   ],
   "source": [
    "df = pd.read_csv(\"data.csv\")\n",
    "df.head()"
   ]
  },
  {
   "cell_type": "code",
   "execution_count": 169,
   "metadata": {},
   "outputs": [
    {
     "data": {
      "text/html": [
       "<div>\n",
       "<style scoped>\n",
       "    .dataframe tbody tr th:only-of-type {\n",
       "        vertical-align: middle;\n",
       "    }\n",
       "\n",
       "    .dataframe tbody tr th {\n",
       "        vertical-align: top;\n",
       "    }\n",
       "\n",
       "    .dataframe thead th {\n",
       "        text-align: right;\n",
       "    }\n",
       "</style>\n",
       "<table border=\"1\" class=\"dataframe\">\n",
       "  <thead>\n",
       "    <tr style=\"text-align: right;\">\n",
       "      <th></th>\n",
       "      <th>Loan Account</th>\n",
       "      <th>Receipt Number</th>\n",
       "      <th>PART_PREPAY_AMOUNT</th>\n",
       "      <th>REPAY_EFFECTIVE_DATE</th>\n",
       "    </tr>\n",
       "  </thead>\n",
       "  <tbody>\n",
       "    <tr>\n",
       "      <th>0</th>\n",
       "      <td>FSAPLALONS000005000115</td>\n",
       "      <td>6458210</td>\n",
       "      <td>729</td>\n",
       "      <td>11-04-2022</td>\n",
       "    </tr>\n",
       "    <tr>\n",
       "      <th>1</th>\n",
       "      <td>FSAPLALONS000005000330</td>\n",
       "      <td>6490591</td>\n",
       "      <td>208</td>\n",
       "      <td>30-04-2022</td>\n",
       "    </tr>\n",
       "    <tr>\n",
       "      <th>2</th>\n",
       "      <td>FSAPLALONS000005000407</td>\n",
       "      <td>6574372</td>\n",
       "      <td>866</td>\n",
       "      <td>23-06-2022</td>\n",
       "    </tr>\n",
       "    <tr>\n",
       "      <th>3</th>\n",
       "      <td>FSAPLALONS000005000487</td>\n",
       "      <td>6472702</td>\n",
       "      <td>598</td>\n",
       "      <td>20-04-2022</td>\n",
       "    </tr>\n",
       "    <tr>\n",
       "      <th>4</th>\n",
       "      <td>FSAPLALONS000005000073</td>\n",
       "      <td>6472722</td>\n",
       "      <td>1000</td>\n",
       "      <td>11-04-2022</td>\n",
       "    </tr>\n",
       "  </tbody>\n",
       "</table>\n",
       "</div>"
      ],
      "text/plain": [
       "             Loan Account  Receipt Number  PART_PREPAY_AMOUNT  \\\n",
       "0  FSAPLALONS000005000115         6458210                 729   \n",
       "1  FSAPLALONS000005000330         6490591                 208   \n",
       "2  FSAPLALONS000005000407         6574372                 866   \n",
       "3  FSAPLALONS000005000487         6472702                 598   \n",
       "4  FSAPLALONS000005000073         6472722                1000   \n",
       "\n",
       "  REPAY_EFFECTIVE_DATE  \n",
       "0           11-04-2022  \n",
       "1           30-04-2022  \n",
       "2           23-06-2022  \n",
       "3           20-04-2022  \n",
       "4           11-04-2022  "
      ]
     },
     "execution_count": 169,
     "metadata": {},
     "output_type": "execute_result"
    }
   ],
   "source": [
    "part_payment = pd.read_csv(\"pre-payment.csv\")\n",
    "part_payment.head()"
   ]
  },
  {
   "cell_type": "code",
   "execution_count": 179,
   "metadata": {},
   "outputs": [
    {
     "data": {
      "text/html": [
       "<div>\n",
       "<style scoped>\n",
       "    .dataframe tbody tr th:only-of-type {\n",
       "        vertical-align: middle;\n",
       "    }\n",
       "\n",
       "    .dataframe tbody tr th {\n",
       "        vertical-align: top;\n",
       "    }\n",
       "\n",
       "    .dataframe thead th {\n",
       "        text-align: right;\n",
       "    }\n",
       "</style>\n",
       "<table border=\"1\" class=\"dataframe\">\n",
       "  <thead>\n",
       "    <tr style=\"text-align: right;\">\n",
       "      <th></th>\n",
       "      <th>Loan Account</th>\n",
       "      <th>Receipt Number</th>\n",
       "      <th>PART_PREPAY_AMOUNT</th>\n",
       "      <th>REPAY_EFFECTIVE_DATE</th>\n",
       "      <th>REPAY_EFFECTIVE_DATE_D</th>\n",
       "    </tr>\n",
       "  </thead>\n",
       "  <tbody>\n",
       "    <tr>\n",
       "      <th>0</th>\n",
       "      <td>FSAPLALONS000005000115</td>\n",
       "      <td>6458210</td>\n",
       "      <td>729</td>\n",
       "      <td>2022-11-04</td>\n",
       "      <td>2022-11-04</td>\n",
       "    </tr>\n",
       "    <tr>\n",
       "      <th>1</th>\n",
       "      <td>FSAPLALONS000005000330</td>\n",
       "      <td>6490591</td>\n",
       "      <td>208</td>\n",
       "      <td>2022-04-30</td>\n",
       "      <td>2022-04-30</td>\n",
       "    </tr>\n",
       "    <tr>\n",
       "      <th>2</th>\n",
       "      <td>FSAPLALONS000005000407</td>\n",
       "      <td>6574372</td>\n",
       "      <td>866</td>\n",
       "      <td>2022-06-23</td>\n",
       "      <td>2022-06-23</td>\n",
       "    </tr>\n",
       "    <tr>\n",
       "      <th>3</th>\n",
       "      <td>FSAPLALONS000005000487</td>\n",
       "      <td>6472702</td>\n",
       "      <td>598</td>\n",
       "      <td>2022-04-20</td>\n",
       "      <td>2022-04-20</td>\n",
       "    </tr>\n",
       "    <tr>\n",
       "      <th>4</th>\n",
       "      <td>FSAPLALONS000005000073</td>\n",
       "      <td>6472722</td>\n",
       "      <td>1000</td>\n",
       "      <td>2022-11-04</td>\n",
       "      <td>2022-11-04</td>\n",
       "    </tr>\n",
       "  </tbody>\n",
       "</table>\n",
       "</div>"
      ],
      "text/plain": [
       "             Loan Account  Receipt Number  PART_PREPAY_AMOUNT  \\\n",
       "0  FSAPLALONS000005000115         6458210                 729   \n",
       "1  FSAPLALONS000005000330         6490591                 208   \n",
       "2  FSAPLALONS000005000407         6574372                 866   \n",
       "3  FSAPLALONS000005000487         6472702                 598   \n",
       "4  FSAPLALONS000005000073         6472722                1000   \n",
       "\n",
       "  REPAY_EFFECTIVE_DATE REPAY_EFFECTIVE_DATE_D  \n",
       "0           2022-11-04             2022-11-04  \n",
       "1           2022-04-30             2022-04-30  \n",
       "2           2022-06-23             2022-06-23  \n",
       "3           2022-04-20             2022-04-20  \n",
       "4           2022-11-04             2022-11-04  "
      ]
     },
     "execution_count": 179,
     "metadata": {},
     "output_type": "execute_result"
    }
   ],
   "source": [
    "part_payment.head()"
   ]
  },
  {
   "cell_type": "code",
   "execution_count": 171,
   "metadata": {},
   "outputs": [
    {
     "name": "stdout",
     "output_type": "stream",
     "text": [
      "[1000]\n"
     ]
    }
   ],
   "source": [
    "pre_payment_list=part_payment.loc[part_payment['Loan Account']==\"FSAPLALONS000005000073\",'PART_PREPAY_AMOUNT'].values.tolist()\n",
    "print(pre_payment_list)"
   ]
  },
  {
   "cell_type": "code",
   "execution_count": 172,
   "metadata": {},
   "outputs": [
    {
     "name": "stdout",
     "output_type": "stream",
     "text": [
      "['11-04-2022']\n"
     ]
    }
   ],
   "source": [
    "repay_date_list =part_payment.loc[part_payment['Loan Account']==\"FSAPLALONS000005000073\",'REPAY_EFFECTIVE_DATE'].values.tolist()\n",
    "print(repay_date_list)\n"
   ]
  },
  {
   "cell_type": "code",
   "execution_count": 182,
   "metadata": {},
   "outputs": [
    {
     "data": {
      "text/plain": [
       "'11'"
      ]
     },
     "execution_count": 182,
     "metadata": {},
     "output_type": "execute_result"
    }
   ],
   "source": [
    "repay_date = repay_date_list[0].split(\"-\")[0]"
   ]
  },
  {
   "cell_type": "code",
   "execution_count": 175,
   "metadata": {},
   "outputs": [],
   "source": [
    "part_payment['REPAY_EFFECTIVE_DATE'] = pd.to_datetime(part_payment['REPAY_EFFECTIVE_DATE'])"
   ]
  },
  {
   "cell_type": "code",
   "execution_count": 181,
   "metadata": {},
   "outputs": [
    {
     "data": {
      "text/plain": [
       "[datetime.date(2022, 11, 4),\n",
       " datetime.date(2022, 4, 30),\n",
       " datetime.date(2022, 6, 23),\n",
       " datetime.date(2022, 4, 20),\n",
       " datetime.date(2022, 11, 4)]"
      ]
     },
     "execution_count": 181,
     "metadata": {},
     "output_type": "execute_result"
    }
   ],
   "source": [
    "import datetime\n",
    "d = part_payment['REPAY_EFFECTIVE_DATE'].dt.date.tolist()\n",
    "d\n",
    "# part_payment['REPAY_EFFECTIVE_DATE_D'] = [datetime.datetime.date(d) for d in part_payment['REPAY_EFFECTIVE_DATE']] \n"
   ]
  },
  {
   "cell_type": "code",
   "execution_count": 167,
   "metadata": {},
   "outputs": [
    {
     "data": {
      "text/plain": [
       "numpy.ndarray"
      ]
     },
     "execution_count": 167,
     "metadata": {},
     "output_type": "execute_result"
    }
   ],
   "source": [
    "type(result)"
   ]
  },
  {
   "cell_type": "code",
   "execution_count": 40,
   "metadata": {},
   "outputs": [],
   "source": [
    "principal_list = df['Principal-M'].to_list()\n",
    "roi_list = df['Rate-of-interest'].to_list()\n",
    "emi_list = df['EMI'].to_list()\n",
    "edd_list = df['Earlier-due-date'].to_list()"
   ]
  },
  {
   "cell_type": "code",
   "execution_count": 41,
   "metadata": {},
   "outputs": [],
   "source": [
    "d = edd_list[0]\n",
    "sd = pd.to_datetime(f\"202204{d}\", format='%Y%m%d', errors='ignore')\n"
   ]
  },
  {
   "cell_type": "code",
   "execution_count": 42,
   "metadata": {},
   "outputs": [],
   "source": [
    "d = 6\n",
    "ed = pd.to_datetime(f\"202204{d}\", format='%Y%m%d', errors='ignore')\n"
   ]
  },
  {
   "cell_type": "code",
   "execution_count": 43,
   "metadata": {},
   "outputs": [
    {
     "data": {
      "text/plain": [
       "Timestamp('2022-04-07 00:00:00')"
      ]
     },
     "execution_count": 43,
     "metadata": {},
     "output_type": "execute_result"
    }
   ],
   "source": [
    "sd"
   ]
  },
  {
   "cell_type": "code",
   "execution_count": 44,
   "metadata": {},
   "outputs": [
    {
     "data": {
      "text/plain": [
       "212739.43"
      ]
     },
     "execution_count": 44,
     "metadata": {},
     "output_type": "execute_result"
    }
   ],
   "source": [
    "principal_list[0]"
   ]
  },
  {
   "cell_type": "code",
   "execution_count": 45,
   "metadata": {},
   "outputs": [
    {
     "data": {
      "text/plain": [
       "Timestamp('2022-04-06 00:00:00')"
      ]
     },
     "execution_count": 45,
     "metadata": {},
     "output_type": "execute_result"
    }
   ],
   "source": [
    "ed"
   ]
  },
  {
   "cell_type": "code",
   "execution_count": 46,
   "metadata": {},
   "outputs": [
    {
     "data": {
      "text/plain": [
       "25.73"
      ]
     },
     "execution_count": 46,
     "metadata": {},
     "output_type": "execute_result"
    }
   ],
   "source": [
    "roi_list[0]"
   ]
  },
  {
   "cell_type": "code",
   "execution_count": 47,
   "metadata": {},
   "outputs": [],
   "source": [
    "def days360(start_date, end_date, method_eu=False):\n",
    "    start_day = start_date.day\n",
    "    start_month = start_date.month\n",
    "    start_year = start_date.year\n",
    "    end_day = end_date.day\n",
    "    end_month = end_date.month\n",
    "    end_year = end_date.year\n",
    "\n",
    "    if (\n",
    "        start_day == 31 or\n",
    "        (\n",
    "            method_eu is False and\n",
    "            start_month == 2 and (\n",
    "                start_day == 29 or (\n",
    "                    start_day == 28 and\n",
    "                    start_date.is_leap_year is False\n",
    "                )\n",
    "            )\n",
    "        )\n",
    "    ):\n",
    "        start_day = 30\n",
    "\n",
    "    if end_day == 31:\n",
    "        if method_eu is False and start_day != 30:\n",
    "            end_day = 1\n",
    "\n",
    "            if end_month == 12:\n",
    "                end_year += 1\n",
    "                end_month = 1\n",
    "            else:\n",
    "                end_month += 1\n",
    "        else:\n",
    "            end_day = 30\n",
    "\n",
    "    return (\n",
    "        end_day + end_month * 30 + end_year * 360 -\n",
    "        start_day - start_month * 30 - start_year * 360)"
   ]
  },
  {
   "cell_type": "code",
   "execution_count": 79,
   "metadata": {},
   "outputs": [],
   "source": [
    "\n",
    "\n",
    "# first_interest = principal_list[0] * (roi_list[0]/1200)\n",
    "# first_interest\n",
    "# principal_apposition = emi_list[0]-first_interest\n",
    "# closing_principal = principal_list[0] - principal_apposition\n",
    "# print(closing_principal)"
   ]
  },
  {
   "cell_type": "code",
   "execution_count": null,
   "metadata": {},
   "outputs": [],
   "source": [
    "#prepayment \n"
   ]
  },
  {
   "cell_type": "code",
   "execution_count": 113,
   "metadata": {},
   "outputs": [],
   "source": [
    "end_of_month_list = [31, 28, 31, 30, 31, 30, 31, 31, 30, 31, 30, 31]"
   ]
  },
  {
   "cell_type": "code",
   "execution_count": 119,
   "metadata": {},
   "outputs": [
    {
     "data": {
      "text/plain": [
       "30"
      ]
     },
     "execution_count": 119,
     "metadata": {},
     "output_type": "execute_result"
    }
   ],
   "source": [
    "end_of_month[\"6\"]"
   ]
  },
  {
   "cell_type": "code",
   "execution_count": 129,
   "metadata": {},
   "outputs": [],
   "source": [
    "end_of_month_dates = ['2022-01-31', '2022-02-28', '2022-03-31', '2022-04-30', '2022-05-31', '2022-06-30', '2022-07-31', '2022-08-31', '2022-09-30', '2022-10-31', '2022-11-30', '2022-12-31']"
   ]
  },
  {
   "cell_type": "code",
   "execution_count": 145,
   "metadata": {},
   "outputs": [],
   "source": [
    "end_of_month_dates = ['2022-01-31', '2022-02-28', '2022-03-31', '2022-04-30', '2022-05-31', '2022-06-30', '2022-07-31', '2022-08-31', '2022-09-30', '2022-10-31', '2022-11-30', '2022-12-31']\n",
    "interest_value_list = []\n",
    "\n",
    "def first_closing_prinicipal(principal, roi, emi):\n",
    "    first_interest = round(principal * (roi/1200),2)\n",
    "    interest_value_list.append(first_interest)\n",
    "    print(\"first interest\",round(first_interest, 2))\n",
    "    principal_apposition = emi - first_interest\n",
    "    print(\"first prinicipal appo\",round(principal_apposition, 2))\n",
    "    closing_principal = principal - principal_apposition\n",
    "    print(\"first closing prinicipal\",round(closing_principal, 2))\n",
    "    return closing_principal\n",
    "\n",
    "def next_values(principal, roi, emi, date, sm, em):\n",
    "\n",
    "    if sm <= 6:\n",
    "        interest_value = round(principal * (roi/ 36000) * days360(pd.to_datetime(f'2022-{sm}-{date}'), pd.to_datetime(f'2022-{em}-{date}')),2)\n",
    "        # print(\"days360 value\",days360(pd.to_datetime(f'2022-{sm}-{date}'), pd.to_datetime(f'2022-{em}-{date}')))\n",
    "        # print(\"sm, em\", sm, em)\n",
    "        # print(\"date\",date)\n",
    "        print(\"interest value\", round(interest_value,2))\n",
    "        interest_value_list.append(interest_value)\n",
    "        principal_apposition = emi - interest_value\n",
    "        print(\"principal apposition\", round(principal_apposition,2))\n",
    "        principal = principal - principal_apposition\n",
    "        print(\"closing principal\", round(principal,2))\n",
    "        if sm==6:\n",
    "            print(\"closing principal inside june before interest\", round(principal,2))\n",
    "            interest_value = round(principal * (roi/ 36000) * days360(pd.to_datetime(f'2022-6-{date}'), pd.to_datetime(f'2022-6-30')),2)\n",
    "            interest_value_list.append(interest_value)\n",
    "            print(\"inside june interest\", round(interest_value,2))\n",
    "            principal = principal + interest_value\n",
    "            print(\"june closing principal\", round(principal,2))\n",
    "    if sm>6:\n",
    "        print(\"closing principal after june before interest\", round(principal,2))\n",
    "        interest_value = round(principal * (roi/ 36000) * days360(pd.to_datetime(f\"{end_of_month_dates[sm-1]}\"), pd.to_datetime(f\"{end_of_month_dates[sm]}\")),2)\n",
    "\n",
    "        # print(\"days360 value\",days360(pd.to_datetime(f'2022-{sm}-{date}'), pd.to_datetime(f'2022-{em}-{date}')))\n",
    "        # print(\"sm, em\", sm, em)\n",
    "        # print(\"date\",date)\n",
    "        print(\"interest value\", round(interest_value,2))\n",
    "        interest_value_list.append(interest_value)\n",
    "\n",
    "        principal_apposition = emi - interest_value\n",
    "        print(\"principal apposition\", round(principal_apposition,2))\n",
    "        principal = principal - principal_apposition\n",
    "        print(\"closing principal\", round(principal,2))\n",
    "        \n",
    "        # print(\"june closing principal\", round(closing_principal,2))\n",
    "    # if sm==8:\n",
    "    #     # print(\"closing principal inside june before interest\", round(closing_principal,2))\n",
    "    #     interest_value = closing_principal * (roi/ 36000) * days360(pd.to_datetime(f'2022-6-{date}'), pd.to_datetime(f'2022-6-30'))\n",
    "    #     # print(\"inside june\", round(interest_value,2))\n",
    "    #     closing_principal = closing_principal + interest_value\n",
    "    #     # print(\"june closing principal\", round(closing_principal,2))\n",
    "    # if sm==9:\n",
    "    #     # print(\"closing principal inside june before interest\", round(closing_principal,2))\n",
    "    #     interest_value = closing_principal * (roi/ 36000) * days360(pd.to_datetime(f'2022-6-{date}'), pd.to_datetime(f'2022-6-30'))\n",
    "    #     # print(\"inside june\", round(interest_value,2))\n",
    "    #     closing_principal = closing_principal + interest_value\n",
    "    #     # print(\"june closing principal\", round(closing_principal,2))\n",
    "\n",
    "    return interest_value,principal"
   ]
  },
  {
   "cell_type": "code",
   "execution_count": 146,
   "metadata": {},
   "outputs": [
    {
     "name": "stdout",
     "output_type": "stream",
     "text": [
      "first interest 4561.49\n",
      "first prinicipal appo 4903.51\n",
      "first closing prinicipal 207835.92\n",
      "interest value 4456.35\n",
      "principal apposition 5008.65\n",
      "closing principal 202827.27\n",
      "interest value 4348.95\n",
      "principal apposition 5116.05\n",
      "closing principal 197711.22\n",
      "closing principal inside june before interest 197711.22\n",
      "inside june interest 3250.1\n",
      "june closing principal 200961.32\n",
      "closing principal after june before interest 200961.32\n",
      "interest value 4308.95\n",
      "principal apposition 5156.05\n",
      "closing principal 195805.27\n",
      "closing principal after june before interest 195805.27\n",
      "interest value 4198.39\n",
      "principal apposition 5266.61\n",
      "closing principal 190538.66\n",
      "closing principal after june before interest 190538.66\n",
      "interest value 4085.47\n",
      "principal apposition 5379.53\n",
      "closing principal 185159.13\n",
      "4085.47\n"
     ]
    }
   ],
   "source": [
    "closing_principal = first_closing_prinicipal(principal_list[0], roi_list[0], emi_list[0])\n",
    "for i in range(5, 10):\n",
    "    interest_value, closing_principal_2 = next_values(closing_principal, roi_list[0], emi_list[0], edd_list[0], i, i+1)\n",
    "    closing_principal = closing_principal_2\n",
    "    # else:\n",
    "    #     break\n",
    "print(round(interest_value,2))"
   ]
  },
  {
   "cell_type": "code",
   "execution_count": 147,
   "metadata": {},
   "outputs": [
    {
     "name": "stdout",
     "output_type": "stream",
     "text": [
      "[4561.49, 4456.35, 4348.95, 3250.1, 4308.95, 4198.39, 4085.47]\n"
     ]
    }
   ],
   "source": [
    "print(interest_value_list)"
   ]
  },
  {
   "cell_type": "code",
   "execution_count": 152,
   "metadata": {},
   "outputs": [],
   "source": [
    "df['interest_april1'] = \"\""
   ]
  },
  {
   "cell_type": "code",
   "execution_count": null,
   "metadata": {},
   "outputs": [],
   "source": []
  },
  {
   "cell_type": "code",
   "execution_count": 153,
   "metadata": {},
   "outputs": [
    {
     "name": "stderr",
     "output_type": "stream",
     "text": [
      "/home/laptop-pr-14/anaconda3/lib/python3.7/site-packages/pandas/core/indexing.py:1732: SettingWithCopyWarning: \n",
      "A value is trying to be set on a copy of a slice from a DataFrame\n",
      "\n",
      "See the caveats in the documentation: https://pandas.pydata.org/pandas-docs/stable/user_guide/indexing.html#returning-a-view-versus-a-copy\n",
      "  self._setitem_single_block(indexer, value, name)\n"
     ]
    }
   ],
   "source": [
    "df['interest_april1'].loc[0] = interest_value_list[0]"
   ]
  },
  {
   "cell_type": "code",
   "execution_count": 154,
   "metadata": {},
   "outputs": [
    {
     "data": {
      "text/html": [
       "<div>\n",
       "<style scoped>\n",
       "    .dataframe tbody tr th:only-of-type {\n",
       "        vertical-align: middle;\n",
       "    }\n",
       "\n",
       "    .dataframe tbody tr th {\n",
       "        vertical-align: top;\n",
       "    }\n",
       "\n",
       "    .dataframe thead th {\n",
       "        text-align: right;\n",
       "    }\n",
       "</style>\n",
       "<table border=\"1\" class=\"dataframe\">\n",
       "  <thead>\n",
       "    <tr style=\"text-align: right;\">\n",
       "      <th></th>\n",
       "      <th>Loan Account</th>\n",
       "      <th>Principal-M</th>\n",
       "      <th>Rate-of-interest</th>\n",
       "      <th>EMI</th>\n",
       "      <th>Earlier-due-date</th>\n",
       "      <th>New-due-date</th>\n",
       "      <th>Date</th>\n",
       "      <th>interest_april</th>\n",
       "      <th>interest_april1</th>\n",
       "    </tr>\n",
       "  </thead>\n",
       "  <tbody>\n",
       "    <tr>\n",
       "      <th>0</th>\n",
       "      <td>FDSG898123</td>\n",
       "      <td>212739.43</td>\n",
       "      <td>25.73</td>\n",
       "      <td>9465</td>\n",
       "      <td>7</td>\n",
       "      <td>30</td>\n",
       "      <td>2022-07-31</td>\n",
       "      <td>4561.49</td>\n",
       "      <td>4561.49</td>\n",
       "    </tr>\n",
       "    <tr>\n",
       "      <th>1</th>\n",
       "      <td>FDSG898123</td>\n",
       "      <td>37990.00</td>\n",
       "      <td>26.50</td>\n",
       "      <td>5917</td>\n",
       "      <td>7</td>\n",
       "      <td>30</td>\n",
       "      <td>2022-07-31</td>\n",
       "      <td>4561.49</td>\n",
       "      <td></td>\n",
       "    </tr>\n",
       "  </tbody>\n",
       "</table>\n",
       "</div>"
      ],
      "text/plain": [
       "  Loan Account  Principal-M  Rate-of-interest   EMI  Earlier-due-date  \\\n",
       "0   FDSG898123    212739.43             25.73  9465                 7   \n",
       "1   FDSG898123     37990.00             26.50  5917                 7   \n",
       "\n",
       "   New-due-date       Date  interest_april interest_april1  \n",
       "0            30 2022-07-31         4561.49         4561.49  \n",
       "1            30 2022-07-31         4561.49                  "
      ]
     },
     "execution_count": 154,
     "metadata": {},
     "output_type": "execute_result"
    }
   ],
   "source": [
    "df['april_interest'] = \"\"\n",
    "df['may_interest'] = \"\"\n",
    "df['june_interest'] = \"\"\n",
    "df['june_interest'] = \"\"\n",
    "df['july_interest'] = \"\"\n",
    "df['august_interest'] = \"\"\n",
    "df['september_interest'] = \"\"\n",
    "\n",
    "df['april_interest1'] = \"\"\n",
    "df['may_interest1'] = \"\"\n",
    "df['june_interest1'] = \"\"\n",
    "df['july_interest1'] = \"\"\n",
    "df['august_interest1'] = \"\"\n",
    "df['september_interest1'] = \"\""
   ]
  },
  {
   "cell_type": "code",
   "execution_count": null,
   "metadata": {},
   "outputs": [],
   "source": [
    "\n",
    "df['interest_april1'].loc[0] = interest_value_list[0]"
   ]
  },
  {
   "cell_type": "code",
   "execution_count": 106,
   "metadata": {},
   "outputs": [
    {
     "data": {
      "text/plain": [
       "0   2022-07-31\n",
       "1   2022-07-31\n",
       "Name: Date, dtype: datetime64[ns]"
      ]
     },
     "execution_count": 106,
     "metadata": {},
     "output_type": "execute_result"
    }
   ],
   "source": [
    "\n",
    "df['Date'] = pd.to_datetime(f'2022-6-30') + MonthEnd(1)\n",
    "df['Date'] "
   ]
  },
  {
   "cell_type": "code",
   "execution_count": 111,
   "metadata": {},
   "outputs": [
    {
     "data": {
      "text/plain": [
       "Timestamp('2022-06-30 00:00:00')"
      ]
     },
     "execution_count": 111,
     "metadata": {},
     "output_type": "execute_result"
    }
   ],
   "source": [
    "pd.to_datetime(f'2022-6-23') + MonthEnd(0)"
   ]
  },
  {
   "cell_type": "code",
   "execution_count": 50,
   "metadata": {},
   "outputs": [
    {
     "name": "stdout",
     "output_type": "stream",
     "text": [
      "4561.49\n"
     ]
    },
    {
     "data": {
      "text/plain": [
       "207835.91794491667"
      ]
     },
     "execution_count": 50,
     "metadata": {},
     "output_type": "execute_result"
    }
   ],
   "source": [
    "first_closing_prinicipal(principal_list[0], roi_list[0], emi_list[0])"
   ]
  },
  {
   "cell_type": "code",
   "execution_count": 51,
   "metadata": {},
   "outputs": [],
   "source": [
    "def pre_payment(closing_principal, payment):\n",
    "    updated_closing_principal =  closing_principal - payment\n",
    "    return updated_closing_principal\n"
   ]
  },
  {
   "cell_type": "code",
   "execution_count": 137,
   "metadata": {},
   "outputs": [
    {
     "name": "stdout",
     "output_type": "stream",
     "text": [
      "first interest 4561.49\n",
      "first prinicipal appo 4903.51\n",
      "first closing prinicipal 207835.92\n",
      "interest value 4456.35\n",
      "principal apposition 5008.65\n",
      "closing principal 202827.27\n",
      "interest value 4456.35\n",
      "principal apposition 5008.65\n",
      "closing principal 202827.27\n",
      "closing principal inside june before interest 202827.27\n",
      "inside june interest 3334.2\n",
      "june closing principal 206161.46\n",
      "closing principal inside june before interest 207835.92\n",
      "interest value 4456.35\n",
      "principal apposition 5008.65\n",
      "closing principal 202827.27\n",
      "closing principal inside june before interest 207835.92\n",
      "interest value 4456.35\n",
      "principal apposition 5008.65\n",
      "closing principal 202827.27\n",
      "closing principal inside june before interest 207835.92\n",
      "interest value 4456.35\n",
      "principal apposition 5008.65\n",
      "closing principal 202827.27\n",
      "4456.35\n"
     ]
    }
   ],
   "source": []
  },
  {
   "cell_type": "code",
   "execution_count": 53,
   "metadata": {},
   "outputs": [
    {
     "name": "stdout",
     "output_type": "stream",
     "text": [
      "-148.54463521095138\n"
     ]
    }
   ],
   "source": [
    "principal_list[0]\n",
    "interest_value = 207835.478725 * (roi_list[0] / 36000) * days360(sd,ed)\n",
    "print(interest_value)"
   ]
  },
  {
   "cell_type": "code",
   "execution_count": 30,
   "metadata": {},
   "outputs": [
    {
     "name": "stdout",
     "output_type": "stream",
     "text": [
      "4456.339056328541\n"
     ]
    }
   ],
   "source": [
    "interest_value = 207835.478725 * (25.73/ 36000) * days360(pd.to_datetime('2022-04-20'), pd.to_datetime('2022-05-20'))\n",
    "print(interest_value)"
   ]
  },
  {
   "cell_type": "code",
   "execution_count": 31,
   "metadata": {},
   "outputs": [],
   "source": [
    "# decimal - done \n",
    "# june  interest value - done\n",
    "# prepayment logic \n",
    "# sample data verification"
   ]
  },
  {
   "cell_type": "code",
   "execution_count": 32,
   "metadata": {},
   "outputs": [
    {
     "data": {
      "text/plain": [
       "-1"
      ]
     },
     "execution_count": 32,
     "metadata": {},
     "output_type": "execute_result"
    }
   ],
   "source": [
    "days360(sd,ed)"
   ]
  },
  {
   "cell_type": "code",
   "execution_count": null,
   "metadata": {},
   "outputs": [],
   "source": []
  },
  {
   "cell_type": "code",
   "execution_count": 33,
   "metadata": {},
   "outputs": [
    {
     "data": {
      "text/plain": [
       "30"
      ]
     },
     "execution_count": 33,
     "metadata": {},
     "output_type": "execute_result"
    }
   ],
   "source": [
    "days360(pd.to_datetime('2022-04-20'), pd.to_datetime('2022-05-20'))"
   ]
  },
  {
   "cell_type": "code",
   "execution_count": 34,
   "metadata": {},
   "outputs": [
    {
     "data": {
      "text/plain": [
       "1800"
      ]
     },
     "execution_count": 34,
     "metadata": {},
     "output_type": "execute_result"
    }
   ],
   "source": [
    "days360(pd.to_datetime('2012-11-27'), pd.to_datetime('2017-11-27'))"
   ]
  },
  {
   "cell_type": "code",
   "execution_count": null,
   "metadata": {},
   "outputs": [],
   "source": []
  }
 ],
 "metadata": {
  "kernelspec": {
   "display_name": "Python 3.7.11 ('base')",
   "language": "python",
   "name": "python3"
  },
  "language_info": {
   "codemirror_mode": {
    "name": "ipython",
    "version": 3
   },
   "file_extension": ".py",
   "mimetype": "text/x-python",
   "name": "python",
   "nbconvert_exporter": "python",
   "pygments_lexer": "ipython3",
   "version": "3.7.11"
  },
  "orig_nbformat": 4,
  "vscode": {
   "interpreter": {
    "hash": "da551bdb23468983aecb3a9b5cbad04f6cb1882153fd7bd39255cef19061f651"
   }
  }
 },
 "nbformat": 4,
 "nbformat_minor": 2
}
